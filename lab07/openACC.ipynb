{
  "nbformat": 4,
  "nbformat_minor": 0,
  "metadata": {
    "colab": {
      "provenance": [],
      "gpuType": "T4"
    },
    "kernelspec": {
      "name": "python3",
      "display_name": "Python 3"
    },
    "language_info": {
      "name": "python"
    },
    "accelerator": "GPU",
    "gpuClass": "standard"
  },
  "cells": [
    {
      "cell_type": "code",
      "execution_count": 1,
      "metadata": {
        "colab": {
          "base_uri": "https://localhost:8080/"
        },
        "id": "U1b9GzVWRIrZ",
        "outputId": "a799945a-6a8e-417a-d425-30bdeedfb110"
      },
      "outputs": [
        {
          "output_type": "stream",
          "name": "stdout",
          "text": [
            "\u001b[33m\r0% [Working]\u001b[0m\r            \rGet:1 https://cloud.r-project.org/bin/linux/ubuntu focal-cran40/ InRelease [3,622 B]\n",
            "\u001b[33m\r0% [Waiting for headers] [Connecting to security.ubuntu.com (185.125.190.36)] [\u001b[0m\u001b[33m\r0% [Waiting for headers] [Connecting to security.ubuntu.com (185.125.190.36)] [\u001b[0m\r                                                                               \rHit:2 https://developer.download.nvidia.com/compute/cuda/repos/ubuntu2004/x86_64  InRelease\n",
            "\u001b[33m\r0% [Waiting for headers] [Connecting to security.ubuntu.com (185.125.190.36)] [\u001b[0m\r                                                                               \rHit:3 http://archive.ubuntu.com/ubuntu focal InRelease\n",
            "Get:4 http://archive.ubuntu.com/ubuntu focal-updates InRelease [114 kB]\n",
            "Hit:5 http://ppa.launchpad.net/c2d4u.team/c2d4u4.0+/ubuntu focal InRelease\n",
            "Get:6 http://security.ubuntu.com/ubuntu focal-security InRelease [114 kB]\n",
            "Get:7 http://archive.ubuntu.com/ubuntu focal-backports InRelease [108 kB]\n",
            "Hit:8 http://ppa.launchpad.net/cran/libgit2/ubuntu focal InRelease\n",
            "Get:9 http://archive.ubuntu.com/ubuntu focal-updates/universe amd64 Packages [1,342 kB]\n",
            "Hit:10 http://ppa.launchpad.net/deadsnakes/ppa/ubuntu focal InRelease\n",
            "Get:11 http://archive.ubuntu.com/ubuntu focal-updates/main amd64 Packages [3,169 kB]\n",
            "Hit:12 http://ppa.launchpad.net/graphics-drivers/ppa/ubuntu focal InRelease\n",
            "Get:13 http://security.ubuntu.com/ubuntu focal-security/universe amd64 Packages [1,046 kB]\n",
            "Hit:14 http://ppa.launchpad.net/ubuntugis/ppa/ubuntu focal InRelease\n",
            "Get:15 http://security.ubuntu.com/ubuntu focal-security/main amd64 Packages [2,693 kB]\n",
            "Fetched 8,590 kB in 2s (3,742 kB/s)\n",
            "Reading package lists... Done\n",
            "Building dependency tree       \n",
            "Reading state information... Done\n",
            "24 packages can be upgraded. Run 'apt list --upgradable' to see them.\n"
          ]
        }
      ],
      "source": [
        "!apt update"
      ]
    },
    {
      "cell_type": "code",
      "source": [
        "!apt -y full-upgrade"
      ],
      "metadata": {
        "colab": {
          "base_uri": "https://localhost:8080/"
        },
        "id": "q0dsN32rRhzl",
        "outputId": "e347a17b-438d-410b-f527-eb3098963042"
      },
      "execution_count": 2,
      "outputs": [
        {
          "output_type": "stream",
          "name": "stdout",
          "text": [
            "Reading package lists... Done\n",
            "Building dependency tree       \n",
            "Reading state information... Done\n",
            "Calculating upgrade... Done\n",
            "The following packages have been kept back:\n",
            "  libcudnn8 libcudnn8-dev libnccl-dev libnccl2\n",
            "The following packages will be upgraded:\n",
            "  base-files cuda-toolkit-config-common libasn1-8-heimdal libgnutls30\n",
            "  libgssapi3-heimdal libhcrypto4-heimdal libheimbase1-heimdal\n",
            "  libheimntlm0-heimdal libhx509-5-heimdal libkrb5-26-heimdal libpam-modules\n",
            "  libpam-modules-bin libpam-runtime libpam0g libroken18-heimdal libudev1\n",
            "  libwind0-heimdal linux-libc-dev openssl tar\n",
            "20 upgraded, 0 newly installed, 0 to remove and 4 not upgraded.\n",
            "Need to get 4,171 kB of archives.\n",
            "After this operation, 43.0 kB of additional disk space will be used.\n",
            "Get:1 https://developer.download.nvidia.com/compute/cuda/repos/ubuntu2004/x86_64  cuda-toolkit-config-common 12.1.105-1 [16.4 kB]\n",
            "Get:2 http://archive.ubuntu.com/ubuntu focal-updates/main amd64 base-files amd64 11ubuntu5.7 [60.4 kB]\n",
            "Get:3 http://archive.ubuntu.com/ubuntu focal-updates/main amd64 tar amd64 1.30+dfsg-7ubuntu0.20.04.3 [240 kB]\n",
            "Get:4 http://archive.ubuntu.com/ubuntu focal-updates/main amd64 libpam0g amd64 1.3.1-5ubuntu4.6 [55.3 kB]\n",
            "Get:5 http://archive.ubuntu.com/ubuntu focal-updates/main amd64 libpam-modules-bin amd64 1.3.1-5ubuntu4.6 [41.2 kB]\n",
            "Get:6 http://archive.ubuntu.com/ubuntu focal-updates/main amd64 libpam-modules amd64 1.3.1-5ubuntu4.6 [260 kB]\n",
            "Get:7 http://archive.ubuntu.com/ubuntu focal-updates/main amd64 libpam-runtime all 1.3.1-5ubuntu4.6 [37.3 kB]\n",
            "Get:8 http://archive.ubuntu.com/ubuntu focal-updates/main amd64 libudev1 amd64 245.4-4ubuntu3.21 [75.9 kB]\n",
            "Get:9 http://archive.ubuntu.com/ubuntu focal-updates/main amd64 libgnutls30 amd64 3.6.13-2ubuntu1.8 [829 kB]\n",
            "Get:10 http://archive.ubuntu.com/ubuntu focal-updates/main amd64 openssl amd64 1.1.1f-1ubuntu2.18 [621 kB]\n",
            "Get:11 http://archive.ubuntu.com/ubuntu focal-updates/main amd64 libroken18-heimdal amd64 7.7.0+dfsg-1ubuntu1.4 [42.5 kB]\n",
            "Get:12 http://archive.ubuntu.com/ubuntu focal-updates/main amd64 libasn1-8-heimdal amd64 7.7.0+dfsg-1ubuntu1.4 [181 kB]\n",
            "Get:13 http://archive.ubuntu.com/ubuntu focal-updates/main amd64 libheimbase1-heimdal amd64 7.7.0+dfsg-1ubuntu1.4 [30.4 kB]\n",
            "Get:14 http://archive.ubuntu.com/ubuntu focal-updates/main amd64 libhcrypto4-heimdal amd64 7.7.0+dfsg-1ubuntu1.4 [88.1 kB]\n",
            "Get:15 http://archive.ubuntu.com/ubuntu focal-updates/main amd64 libwind0-heimdal amd64 7.7.0+dfsg-1ubuntu1.4 [47.7 kB]\n",
            "Get:16 http://archive.ubuntu.com/ubuntu focal-updates/main amd64 libhx509-5-heimdal amd64 7.7.0+dfsg-1ubuntu1.4 [107 kB]\n",
            "Get:17 http://archive.ubuntu.com/ubuntu focal-updates/main amd64 libkrb5-26-heimdal amd64 7.7.0+dfsg-1ubuntu1.4 [207 kB]\n",
            "Get:18 http://archive.ubuntu.com/ubuntu focal-updates/main amd64 libheimntlm0-heimdal amd64 7.7.0+dfsg-1ubuntu1.4 [15.1 kB]\n",
            "Get:19 http://archive.ubuntu.com/ubuntu focal-updates/main amd64 libgssapi3-heimdal amd64 7.7.0+dfsg-1ubuntu1.4 [96.5 kB]\n",
            "Get:20 http://archive.ubuntu.com/ubuntu focal-updates/main amd64 linux-libc-dev amd64 5.4.0-148.165 [1,120 kB]\n",
            "Fetched 4,171 kB in 1s (3,020 kB/s)\n",
            "Preconfiguring packages ...\n",
            "(Reading database ... 122531 files and directories currently installed.)\n",
            "Preparing to unpack .../base-files_11ubuntu5.7_amd64.deb ...\n",
            "Unpacking base-files (11ubuntu5.7) over (11ubuntu5.6) ...\n",
            "Setting up base-files (11ubuntu5.7) ...\n",
            "Installing new version of config file /etc/issue ...\n",
            "Installing new version of config file /etc/issue.net ...\n",
            "Installing new version of config file /etc/lsb-release ...\n",
            "(Reading database ... 122531 files and directories currently installed.)\n",
            "Preparing to unpack .../tar_1.30+dfsg-7ubuntu0.20.04.3_amd64.deb ...\n",
            "Unpacking tar (1.30+dfsg-7ubuntu0.20.04.3) over (1.30+dfsg-7ubuntu0.20.04.2) ...\n",
            "Setting up tar (1.30+dfsg-7ubuntu0.20.04.3) ...\n",
            "update-alternatives: warning: forcing reinstallation of alternative /usr/sbin/rmt-tar because link group rmt is broken\n",
            "(Reading database ... 122531 files and directories currently installed.)\n",
            "Preparing to unpack .../libpam0g_1.3.1-5ubuntu4.6_amd64.deb ...\n",
            "Unpacking libpam0g:amd64 (1.3.1-5ubuntu4.6) over (1.3.1-5ubuntu4.4) ...\n",
            "Setting up libpam0g:amd64 (1.3.1-5ubuntu4.6) ...\n",
            "(Reading database ... 122531 files and directories currently installed.)\n",
            "Preparing to unpack .../libpam-modules-bin_1.3.1-5ubuntu4.6_amd64.deb ...\n",
            "Unpacking libpam-modules-bin (1.3.1-5ubuntu4.6) over (1.3.1-5ubuntu4.4) ...\n",
            "Setting up libpam-modules-bin (1.3.1-5ubuntu4.6) ...\n",
            "(Reading database ... 122531 files and directories currently installed.)\n",
            "Preparing to unpack .../libpam-modules_1.3.1-5ubuntu4.6_amd64.deb ...\n",
            "Unpacking libpam-modules:amd64 (1.3.1-5ubuntu4.6) over (1.3.1-5ubuntu4.4) ...\n",
            "Setting up libpam-modules:amd64 (1.3.1-5ubuntu4.6) ...\n",
            "(Reading database ... 122531 files and directories currently installed.)\n",
            "Preparing to unpack .../libpam-runtime_1.3.1-5ubuntu4.6_all.deb ...\n",
            "Unpacking libpam-runtime (1.3.1-5ubuntu4.6) over (1.3.1-5ubuntu4.4) ...\n",
            "Setting up libpam-runtime (1.3.1-5ubuntu4.6) ...\n",
            "(Reading database ... 122531 files and directories currently installed.)\n",
            "Preparing to unpack .../libudev1_245.4-4ubuntu3.21_amd64.deb ...\n",
            "Unpacking libudev1:amd64 (245.4-4ubuntu3.21) over (245.4-4ubuntu3.19) ...\n",
            "Setting up libudev1:amd64 (245.4-4ubuntu3.21) ...\n",
            "(Reading database ... 122531 files and directories currently installed.)\n",
            "Preparing to unpack .../libgnutls30_3.6.13-2ubuntu1.8_amd64.deb ...\n",
            "Unpacking libgnutls30:amd64 (3.6.13-2ubuntu1.8) over (3.6.13-2ubuntu1.7) ...\n",
            "Setting up libgnutls30:amd64 (3.6.13-2ubuntu1.8) ...\n",
            "(Reading database ... 122531 files and directories currently installed.)\n",
            "Preparing to unpack .../00-openssl_1.1.1f-1ubuntu2.18_amd64.deb ...\n",
            "Unpacking openssl (1.1.1f-1ubuntu2.18) over (1.1.1f-1ubuntu2.16) ...\n",
            "Preparing to unpack .../01-cuda-toolkit-config-common_12.1.105-1_all.deb ...\n",
            "Unpacking cuda-toolkit-config-common (12.1.105-1) over (12.0.146-1) ...\n",
            "Preparing to unpack .../02-libroken18-heimdal_7.7.0+dfsg-1ubuntu1.4_amd64.deb ...\n",
            "Unpacking libroken18-heimdal:amd64 (7.7.0+dfsg-1ubuntu1.4) over (7.7.0+dfsg-1ubuntu1.3) ...\n",
            "Preparing to unpack .../03-libasn1-8-heimdal_7.7.0+dfsg-1ubuntu1.4_amd64.deb ...\n",
            "Unpacking libasn1-8-heimdal:amd64 (7.7.0+dfsg-1ubuntu1.4) over (7.7.0+dfsg-1ubuntu1.3) ...\n",
            "Preparing to unpack .../04-libheimbase1-heimdal_7.7.0+dfsg-1ubuntu1.4_amd64.deb ...\n",
            "Unpacking libheimbase1-heimdal:amd64 (7.7.0+dfsg-1ubuntu1.4) over (7.7.0+dfsg-1ubuntu1.3) ...\n",
            "Preparing to unpack .../05-libhcrypto4-heimdal_7.7.0+dfsg-1ubuntu1.4_amd64.deb ...\n",
            "Unpacking libhcrypto4-heimdal:amd64 (7.7.0+dfsg-1ubuntu1.4) over (7.7.0+dfsg-1ubuntu1.3) ...\n",
            "Preparing to unpack .../06-libwind0-heimdal_7.7.0+dfsg-1ubuntu1.4_amd64.deb ...\n",
            "Unpacking libwind0-heimdal:amd64 (7.7.0+dfsg-1ubuntu1.4) over (7.7.0+dfsg-1ubuntu1.3) ...\n",
            "Preparing to unpack .../07-libhx509-5-heimdal_7.7.0+dfsg-1ubuntu1.4_amd64.deb ...\n",
            "Unpacking libhx509-5-heimdal:amd64 (7.7.0+dfsg-1ubuntu1.4) over (7.7.0+dfsg-1ubuntu1.3) ...\n",
            "Preparing to unpack .../08-libkrb5-26-heimdal_7.7.0+dfsg-1ubuntu1.4_amd64.deb ...\n",
            "Unpacking libkrb5-26-heimdal:amd64 (7.7.0+dfsg-1ubuntu1.4) over (7.7.0+dfsg-1ubuntu1.3) ...\n",
            "Preparing to unpack .../09-libheimntlm0-heimdal_7.7.0+dfsg-1ubuntu1.4_amd64.deb ...\n",
            "Unpacking libheimntlm0-heimdal:amd64 (7.7.0+dfsg-1ubuntu1.4) over (7.7.0+dfsg-1ubuntu1.3) ...\n",
            "Preparing to unpack .../10-libgssapi3-heimdal_7.7.0+dfsg-1ubuntu1.4_amd64.deb ...\n",
            "Unpacking libgssapi3-heimdal:amd64 (7.7.0+dfsg-1ubuntu1.4) over (7.7.0+dfsg-1ubuntu1.3) ...\n",
            "Preparing to unpack .../11-linux-libc-dev_5.4.0-148.165_amd64.deb ...\n",
            "Unpacking linux-libc-dev:amd64 (5.4.0-148.165) over (5.4.0-137.154) ...\n",
            "Setting up cuda-toolkit-config-common (12.1.105-1) ...\n",
            "Setting up linux-libc-dev:amd64 (5.4.0-148.165) ...\n",
            "Setting up libroken18-heimdal:amd64 (7.7.0+dfsg-1ubuntu1.4) ...\n",
            "Setting up openssl (1.1.1f-1ubuntu2.18) ...\n",
            "Setting up libheimbase1-heimdal:amd64 (7.7.0+dfsg-1ubuntu1.4) ...\n",
            "Setting up libasn1-8-heimdal:amd64 (7.7.0+dfsg-1ubuntu1.4) ...\n",
            "Setting up libhcrypto4-heimdal:amd64 (7.7.0+dfsg-1ubuntu1.4) ...\n",
            "Setting up libwind0-heimdal:amd64 (7.7.0+dfsg-1ubuntu1.4) ...\n",
            "Setting up libhx509-5-heimdal:amd64 (7.7.0+dfsg-1ubuntu1.4) ...\n",
            "Setting up libkrb5-26-heimdal:amd64 (7.7.0+dfsg-1ubuntu1.4) ...\n",
            "Setting up libheimntlm0-heimdal:amd64 (7.7.0+dfsg-1ubuntu1.4) ...\n",
            "Setting up libgssapi3-heimdal:amd64 (7.7.0+dfsg-1ubuntu1.4) ...\n",
            "Processing triggers for libc-bin (2.31-0ubuntu9.9) ...\n",
            "Processing triggers for man-db (2.9.1-1) ...\n",
            "Processing triggers for mime-support (3.64ubuntu1) ...\n"
          ]
        }
      ]
    },
    {
      "cell_type": "code",
      "source": [
        "! curl https://developer.download.nvidia.com/hpc-sdk/ubuntu/DEB-GPG-KEY-NVIDIA-HPC-SDK | sudo gpg --dearmor -o /usr/share/keyrings/nvidia-hpcsdk-archive-keyring.gpg\n",
        "! echo 'deb [signed-by=/usr/share/keyrings/nvidia-hpcsdk-archive-keyring.gpg] https://developer.download.nvidia.com/hpc-sdk/ubuntu/amd64 /' | sudo tee /etc/apt/sources.list.d/nvhpc.list\n",
        "! sudo apt-get update -y\n",
        "! sudo apt-get install -y nvhpc-23-3"
      ],
      "metadata": {
        "colab": {
          "base_uri": "https://localhost:8080/"
        },
        "id": "bUhdOBboSmTh",
        "outputId": "cbb011d7-50d4-4b1b-be82-ca0c7d3d5c78"
      },
      "execution_count": 3,
      "outputs": [
        {
          "output_type": "stream",
          "name": "stdout",
          "text": [
            "  % Total    % Received % Xferd  Average Speed   Time    Time     Time  Current\n",
            "                                 Dload  Upload   Total   Spent    Left  Speed\n",
            "\r  0     0    0     0    0     0      0      0 --:--:-- --:--:-- --:--:--     0\r100  1626  100  1626    0     0  25015      0 --:--:-- --:--:-- --:--:-- 25015\n",
            "deb [signed-by=/usr/share/keyrings/nvidia-hpcsdk-archive-keyring.gpg] https://developer.download.nvidia.com/hpc-sdk/ubuntu/amd64 /\n",
            "Hit:1 https://cloud.r-project.org/bin/linux/ubuntu focal-cran40/ InRelease\n",
            "Hit:2 https://developer.download.nvidia.com/compute/cuda/repos/ubuntu2004/x86_64  InRelease\n",
            "Get:3 https://developer.download.nvidia.com/hpc-sdk/ubuntu/amd64  InRelease [2,126 B]\n",
            "Hit:4 http://archive.ubuntu.com/ubuntu focal InRelease\n",
            "Hit:5 http://security.ubuntu.com/ubuntu focal-security InRelease\n",
            "Hit:6 http://ppa.launchpad.net/c2d4u.team/c2d4u4.0+/ubuntu focal InRelease\n",
            "Get:7 https://developer.download.nvidia.com/hpc-sdk/ubuntu/amd64  Packages [10.5 kB]\n",
            "Hit:8 http://archive.ubuntu.com/ubuntu focal-updates InRelease\n",
            "Hit:9 http://archive.ubuntu.com/ubuntu focal-backports InRelease\n",
            "Hit:10 http://ppa.launchpad.net/cran/libgit2/ubuntu focal InRelease\n",
            "Hit:11 http://ppa.launchpad.net/deadsnakes/ppa/ubuntu focal InRelease\n",
            "Hit:12 http://ppa.launchpad.net/graphics-drivers/ppa/ubuntu focal InRelease\n",
            "Hit:13 http://ppa.launchpad.net/ubuntugis/ppa/ubuntu focal InRelease\n",
            "Fetched 12.6 kB in 1s (8,538 B/s)\n",
            "Reading package lists... Done\n",
            "Reading package lists... Done\n",
            "Building dependency tree       \n",
            "Reading state information... Done\n",
            "The following additional packages will be installed:\n",
            "  nvhpc-2023\n",
            "The following NEW packages will be installed:\n",
            "  nvhpc-2023 nvhpc-23-3\n",
            "0 upgraded, 2 newly installed, 0 to remove and 4 not upgraded.\n",
            "Need to get 3,053 MB of archives.\n",
            "After this operation, 11.7 GB of additional disk space will be used.\n",
            "Get:1 https://developer.download.nvidia.com/hpc-sdk/ubuntu/amd64  nvhpc-23-3 23.3 [3,053 MB]\n",
            "Get:2 https://developer.download.nvidia.com/hpc-sdk/ubuntu/amd64  nvhpc-2023 23.3 [1,214 B]\n",
            "Fetched 3,053 MB in 31s (99.2 MB/s)\n",
            "debconf: unable to initialize frontend: Dialog\n",
            "debconf: (No usable dialog-like program is installed, so the dialog based frontend cannot be used. at /usr/share/perl5/Debconf/FrontEnd/Dialog.pm line 76, <> line 2.)\n",
            "debconf: falling back to frontend: Readline\n",
            "debconf: unable to initialize frontend: Readline\n",
            "debconf: (This frontend requires a controlling tty.)\n",
            "debconf: falling back to frontend: Teletype\n",
            "dpkg-preconfigure: unable to re-open stdin: \n",
            "Selecting previously unselected package nvhpc-23-3.\n",
            "(Reading database ... 122531 files and directories currently installed.)\n",
            "Preparing to unpack .../nvhpc-23-3_23.3_amd64.deb ...\n",
            "Unpacking nvhpc-23-3 (23.3) ...\n",
            "Selecting previously unselected package nvhpc-2023.\n",
            "Preparing to unpack .../nvhpc-2023_23.3_amd64.deb ...\n",
            "Unpacking nvhpc-2023 (23.3) ...\n",
            "Setting up nvhpc-2023 (23.3) ...\n",
            "Setting up nvhpc-23-3 (23.3) ...\n"
          ]
        }
      ]
    },
    {
      "cell_type": "code",
      "source": [
        "!ls -l /opt/nvidia/hpc_sdk/Linux_x86_64/23.3/compilers/bin/"
      ],
      "metadata": {
        "colab": {
          "base_uri": "https://localhost:8080/"
        },
        "id": "bgdvq0LVT1vL",
        "outputId": "1c7a9227-3fb0-4a02-e620-a2dbb1f8a89d"
      },
      "execution_count": 4,
      "outputs": [
        {
          "output_type": "stream",
          "name": "stdout",
          "text": [
            "total 4752\n",
            "-rwxr-xr-x 1 root root 291232 Mar 29 20:29 compute-sanitizer\n",
            "-rwxr-xr-x 1 root root 291232 Mar 29 20:29 cuda-gdb\n",
            "-rwxr-xr-x 1 root root 291232 Mar 29 20:29 cuda-memcheck\n",
            "-rwxr-xr-x 1 root root 291232 Mar 29 20:29 cuobjdump\n",
            "-rw-r--r-- 1 root root    919 May 17 20:03 localrc\n",
            "-rw-r--r-- 1 root root      0 May 17 20:03 localrc-lock\n",
            "-rwxr-xr-x 1 root root  12045 Mar 29 20:29 makelocalrc\n",
            "-rwxr-xr-x 1 root root 291232 Mar 29 20:29 ncu\n",
            "lrwxrwxrwx 1 root root     37 Mar 29 21:33 ncu-ui -> ../../profilers/Nsight_Compute/ncu-ui\n",
            "-rwxr-xr-x 1 root root 291232 Mar 29 20:29 nsys\n",
            "lrwxrwxrwx 1 root root     42 Mar 29 21:33 nsys-ui -> ../../profilers/Nsight_Systems/bin/nsys-ui\n",
            "-rwxr-xr-x 1 root root  16760 Mar 29 20:29 nvaccelerror\n",
            "-rwxr-xr-x 1 root root  48808 Mar 29 20:29 nvaccelinfo\n",
            "-rwxr-xr-x 1 root root 291432 Mar 29 20:29 nvc\n",
            "-rwxr-xr-x 1 root root 291432 Mar 29 20:29 nvc++\n",
            "-rwxr-xr-x 1 root root 291232 Mar 29 20:29 nvcc\n",
            "-rwxr-xr-x 1 root root  28864 Mar 29 20:29 nvcpuid\n",
            "-rwxr-xr-x 1 root root  15720 Mar 29 20:29 nvcudainit\n",
            "-rwxr-xr-x 1 root root 739896 Mar 29 20:29 nvdecode\n",
            "-rwxr-xr-x 1 root root  65696 Mar 29 20:29 nvextract\n",
            "-rwxr-xr-x 1 root root 291432 Mar 29 20:29 nvfortran\n",
            "lrwxrwxrwx 1 root root      3 Mar 29 21:33 nv-nsight-cu-cli -> ncu\n",
            "-rwxr-xr-x 1 root root 133480 Mar 29 20:29 nvprepro\n",
            "-rwxr-xr-x 1 root root 291232 Mar 29 20:29 nvprof\n",
            "-rwxr-xr-x 1 root root  28664 Mar 29 20:29 nvsize\n",
            "-rwxr-xr-x 1 root root  51584 Mar 29 20:29 nvunzip\n",
            "-rwxr-xr-x 1 root root  56832 Mar 29 20:29 nvzip\n",
            "-rwxr-xr-x 1 root root  16760 Mar 29 20:29 pgaccelerror\n",
            "-rwxr-xr-x 1 root root  48808 Mar 29 20:29 pgaccelinfo\n",
            "lrwxrwxrwx 1 root root      5 Mar 29 21:33 pgc++ -> nvc++\n",
            "lrwxrwxrwx 1 root root      3 Mar 29 21:33 pgcc -> nvc\n",
            "-rwxr-xr-x 1 root root  28864 Mar 29 20:29 pgcpuid\n",
            "-rwxr-xr-x 1 root root  15720 Mar 29 20:29 pgcudainit\n",
            "lrwxrwxrwx 1 root root      9 Mar 29 21:33 pgf77 -> nvfortran\n",
            "lrwxrwxrwx 1 root root      9 Mar 29 21:33 pgf90 -> nvfortran\n",
            "lrwxrwxrwx 1 root root      9 Mar 29 21:33 pgf95 -> nvfortran\n",
            "lrwxrwxrwx 1 root root      9 Mar 29 21:33 pgfortran -> nvfortran\n",
            "-rwxr-xr-x 1 root root 133480 Mar 29 20:29 pgprepro\n",
            "-rwxr-xr-x 1 root root  28664 Mar 29 20:29 pgsize\n",
            "-rwxr-xr-x 1 root root  51584 Mar 29 20:29 pgunzip\n",
            "-rwxr-xr-x 1 root root  56832 Mar 29 20:29 pgzip\n",
            "drwxr-xr-x 2 root root   4096 May 17 20:03 rcfiles\n",
            "drwxr-xr-x 2 root root   4096 May 17 20:03 tools\n"
          ]
        }
      ]
    },
    {
      "cell_type": "code",
      "source": [
        "!nvidia-smi"
      ],
      "metadata": {
        "colab": {
          "base_uri": "https://localhost:8080/"
        },
        "id": "iTjOVMNDT4vM",
        "outputId": "51cf61d8-6bb9-4da0-d132-bb74f51bfa4d"
      },
      "execution_count": 5,
      "outputs": [
        {
          "output_type": "stream",
          "name": "stdout",
          "text": [
            "Wed May 17 20:03:40 2023       \n",
            "+-----------------------------------------------------------------------------+\n",
            "| NVIDIA-SMI 525.85.12    Driver Version: 525.85.12    CUDA Version: 12.0     |\n",
            "|-------------------------------+----------------------+----------------------+\n",
            "| GPU  Name        Persistence-M| Bus-Id        Disp.A | Volatile Uncorr. ECC |\n",
            "| Fan  Temp  Perf  Pwr:Usage/Cap|         Memory-Usage | GPU-Util  Compute M. |\n",
            "|                               |                      |               MIG M. |\n",
            "|===============================+======================+======================|\n",
            "|   0  Tesla T4            Off  | 00000000:00:04.0 Off |                    0 |\n",
            "| N/A   46C    P8     9W /  70W |      0MiB / 15360MiB |      0%      Default |\n",
            "|                               |                      |                  N/A |\n",
            "+-------------------------------+----------------------+----------------------+\n",
            "                                                                               \n",
            "+-----------------------------------------------------------------------------+\n",
            "| Processes:                                                                  |\n",
            "|  GPU   GI   CI        PID   Type   Process name                  GPU Memory |\n",
            "|        ID   ID                                                   Usage      |\n",
            "|=============================================================================|\n",
            "|  No running processes found                                                 |\n",
            "+-----------------------------------------------------------------------------+\n"
          ]
        }
      ]
    },
    {
      "cell_type": "code",
      "source": [
        "!nvaccelinfo "
      ],
      "metadata": {
        "colab": {
          "base_uri": "https://localhost:8080/"
        },
        "id": "fNUDpFqMT7N2",
        "outputId": "6ab5a37b-34d1-4040-9e8d-ab6e4d105292"
      },
      "execution_count": 6,
      "outputs": [
        {
          "output_type": "stream",
          "name": "stdout",
          "text": [
            "/bin/bash: nvaccelinfo: command not found\n"
          ]
        }
      ]
    },
    {
      "cell_type": "code",
      "source": [
        "!/opt/nvidia/hpc_sdk/Linux_x86_64/23.3/compilers/bin/nvc --version"
      ],
      "metadata": {
        "colab": {
          "base_uri": "https://localhost:8080/"
        },
        "id": "_qez1CbHT9pb",
        "outputId": "bf040f63-322d-4d43-f77c-030a3307eca1"
      },
      "execution_count": 7,
      "outputs": [
        {
          "output_type": "stream",
          "name": "stdout",
          "text": [
            "\n",
            "nvc 23.3-0 64-bit target on x86-64 Linux -tp haswell \n",
            "NVIDIA Compilers and Tools\n",
            "Copyright (c) 2022, NVIDIA CORPORATION & AFFILIATES.  All rights reserved.\n"
          ]
        }
      ]
    },
    {
      "cell_type": "code",
      "source": [
        "%%writefile buscaACC.c\n",
        "#include <stdio.h>\n",
        "#include <stdlib.h>\n",
        "#include <openacc.h>\n",
        "#include <time.h>\n",
        "#include <string.h>\n",
        "\n",
        "#define SIZE 1000\n",
        "\n",
        "int main() {\n",
        "  srand(time(NULL));\n",
        "  int vector[SIZE];\n",
        "  int element;\n",
        "\n",
        "    \n",
        "  for (int i = 0; i < SIZE; i++) {\n",
        "    vector[i] = rand() % 1000;\n",
        "  }\n",
        "  \n",
        "  element = rand() % 1000;\n",
        "  int index = -1;\n",
        "\n",
        "  #pragma acc parallel loop\n",
        "  for (int i = 0; i < SIZE; i++) {\n",
        "    if (vector[i] == element) {\n",
        "        index = i;\n",
        "      }\n",
        "  }\n",
        "  if (index == -1) {\n",
        "    printf(\"Elemento não encontrado.\\n\");\n",
        "  } else {\n",
        "    printf(\"Elemento encontrado no índice %d.\\n\", index);\n",
        "  }\n",
        "\n",
        "  return 0;\n",
        "}"
      ],
      "metadata": {
        "colab": {
          "base_uri": "https://localhost:8080/"
        },
        "id": "pUIJHM7WT_yI",
        "outputId": "d926d7ec-0b97-4964-b652-9606b13cb23e"
      },
      "execution_count": 8,
      "outputs": [
        {
          "output_type": "stream",
          "name": "stdout",
          "text": [
            "Writing buscaACC.c\n"
          ]
        }
      ]
    },
    {
      "cell_type": "code",
      "source": [
        "!/opt/nvidia/hpc_sdk/Linux_x86_64/23.3/compilers/bin/nvc  -acc -gpu=managed -o buscaACC buscaACC.c"
      ],
      "metadata": {
        "id": "7PXcPbkVUFFs"
      },
      "execution_count": 9,
      "outputs": []
    },
    {
      "cell_type": "code",
      "source": [
        "!/opt/nvidia/hpc_sdk/Linux_x86_64/23.3/compilers/bin/nvprof ./buscaACC"
      ],
      "metadata": {
        "colab": {
          "base_uri": "https://localhost:8080/"
        },
        "id": "qcl7sE_QUHug",
        "outputId": "cec2ba61-08de-458e-e967-c99c0bb536bd"
      },
      "execution_count": 10,
      "outputs": [
        {
          "output_type": "stream",
          "name": "stdout",
          "text": [
            "==6222== NVPROF is profiling process 6222, command: ./buscaACC\n",
            "Elemento não encontrado.\n",
            "==6222== Profiling application: ./buscaACC\n",
            "==6222== Profiling result:\n",
            "            Type  Time(%)      Time     Calls       Avg       Min       Max  Name\n",
            " GPU activities:   57.60%  2.3040us         1  2.3040us  2.3040us  2.3040us  main_20_gpu\n",
            "                   42.40%  1.6960us         1  1.6960us  1.6960us  1.6960us  [CUDA memcpy HtoD]\n",
            "      API calls:   90.85%  343.14ms         1  343.14ms  343.14ms  343.14ms  cuDevicePrimaryCtxRetain\n",
            "                    7.83%  29.557ms         1  29.557ms  29.557ms  29.557ms  cuMemHostAlloc\n",
            "                    0.43%  1.6314ms         2  815.69us  13.058us  1.6183ms  cuMemAlloc\n",
            "                    0.32%  1.1982ms         1  1.1982ms  1.1982ms  1.1982ms  cuDeviceGetPCIBusId\n",
            "                    0.27%  1.0342ms         1  1.0342ms  1.0342ms  1.0342ms  cuModuleLoadDataEx\n",
            "                    0.27%  1.0140ms         1  1.0140ms  1.0140ms  1.0140ms  cuMemAllocHost\n",
            "                    0.01%  41.944us         1  41.944us  41.944us  41.944us  cuLaunchKernel\n",
            "                    0.01%  28.913us         1  28.913us  28.913us  28.913us  cuMemcpyHtoDAsync\n",
            "                    0.00%  11.205us         2  5.6020us  3.4180us  7.7870us  cuStreamSynchronize\n",
            "                    0.00%  10.393us         1  10.393us  10.393us  10.393us  cuPointerGetAttributes\n",
            "                    0.00%  5.2680us         7     752ns     149ns  1.6320us  cuDeviceGetAttribute\n",
            "                    0.00%  4.5040us         1  4.5040us  4.5040us  4.5040us  cuModuleGetFunction\n",
            "                    0.00%  2.3880us         3     796ns     228ns  1.7350us  cuDeviceGetCount\n",
            "                    0.00%  2.3030us         3     767ns     358ns  1.2150us  cuCtxSetCurrent\n",
            "                    0.00%  1.2440us         2     622ns     320ns     924ns  cuDeviceGet\n",
            "                    0.00%     787ns         1     787ns     787ns     787ns  cuCtxGetCurrent\n",
            "                    0.00%     623ns         3     207ns     116ns     274ns  cuDriverGetVersion\n",
            "                    0.00%     480ns         1     480ns     480ns     480ns  cuDeviceComputeCapability\n",
            " OpenACC (excl):   93.33%  29.732ms         1  29.732ms  29.732ms  29.732ms  acc_enter_data@buscaACC.c:20\n",
            "                    3.36%  1.0696ms         1  1.0696ms  1.0696ms  1.0696ms  acc_device_init@buscaACC.c:20\n",
            "                    2.84%  905.49us         1  905.49us  905.49us  905.49us  acc_enqueue_upload@buscaACC.c:20 (vector[:])\n",
            "                    0.16%  50.374us         1  50.374us  50.374us  50.374us  acc_enqueue_launch@buscaACC.c:20 (main_20_gpu)\n",
            "                    0.14%  43.296us         1  43.296us  43.296us  43.296us  acc_compute_construct@buscaACC.c:20\n",
            "                    0.10%  31.320us         2  15.660us  5.0060us  26.314us  acc_wait@buscaACC.c:20\n",
            "                    0.07%  23.332us         1  23.332us  23.332us  23.332us  acc_exit_data@buscaACC.c:20\n",
            "                    0.00%       0ns         1       0ns       0ns       0ns  acc_delete@buscaACC.c:27\n",
            "                    0.00%       0ns         1       0ns       0ns       0ns  acc_alloc@buscaACC.c:20\n",
            "                    0.00%       0ns         1       0ns       0ns       0ns  acc_create@buscaACC.c:20\n"
          ]
        }
      ]
    },
    {
      "cell_type": "code",
      "source": [
        "%%writefile multMatrizesACC.c\n",
        "#include <stdio.h>\n",
        "#include <stdlib.h>\n",
        "#include <openacc.h>\n",
        "\n",
        "#define SIZE 3\n",
        "\n",
        "int main() {\n",
        "    int matrix[SIZE][SIZE];\n",
        "    int vector[SIZE];\n",
        "    int result[SIZE];\n",
        "    int cont = 1;\n",
        "\n",
        "    // Inicializando a matriz e o vetor com valores de exemplo\n",
        "    for (int i = 0; i < SIZE; i++) {\n",
        "        for (int j = 0; j < SIZE; j++) {\n",
        "            matrix[i][j] = cont;\n",
        "            cont++;\n",
        "        }\n",
        "        vector[i] = i+1;\n",
        "    }\n",
        "\n",
        "    #pragma acc kernels\n",
        "    for (int i = 0; i < SIZE; i++) {\n",
        "        int sum = 0;\n",
        "        #pragma acc loop reduction(+:sum)\n",
        "        for (int j = 0; j < SIZE; j++) {\n",
        "            sum += matrix[i][j] * vector[j];\n",
        "        }\n",
        "        result[i] = sum;\n",
        "    }\n",
        "\n",
        "    // Imprimindo o resultado\n",
        "    printf(\"Resultado:\\n\");\n",
        "    printf(\"[ \");\n",
        "    for (int i = 0; i < SIZE; i++) {\n",
        "        printf(\"%d \", result[i]);\n",
        "    }\n",
        "    printf(\"]\\n\");\n",
        "\n",
        "    return 0;\n",
        "}"
      ],
      "metadata": {
        "colab": {
          "base_uri": "https://localhost:8080/"
        },
        "id": "U9zfxwR-UIG4",
        "outputId": "83f0373e-b262-44b7-ece8-0d850f5f14d6"
      },
      "execution_count": 11,
      "outputs": [
        {
          "output_type": "stream",
          "name": "stdout",
          "text": [
            "Writing multMatrizesACC.c\n"
          ]
        }
      ]
    },
    {
      "cell_type": "code",
      "source": [
        "!/opt/nvidia/hpc_sdk/Linux_x86_64/23.3/compilers/bin/nvc  -acc -gpu=managed -o multMatrizesACC multMatrizesACC.c"
      ],
      "metadata": {
        "id": "ph9Kef-JUNK1"
      },
      "execution_count": 12,
      "outputs": []
    },
    {
      "cell_type": "code",
      "source": [
        "!/opt/nvidia/hpc_sdk/Linux_x86_64/23.3/compilers/bin/nvprof ./multMatrizesACC"
      ],
      "metadata": {
        "colab": {
          "base_uri": "https://localhost:8080/"
        },
        "id": "Lyk9WCR5URLi",
        "outputId": "13cacd99-a204-411b-89f0-fae690031013"
      },
      "execution_count": 13,
      "outputs": [
        {
          "output_type": "stream",
          "name": "stdout",
          "text": [
            "==6401== NVPROF is profiling process 6401, command: ./multMatrizesACC\n",
            "Resultado:\n",
            "[ 14 32 50 ]\n",
            "==6401== Profiling application: ./multMatrizesACC\n",
            "==6401== Profiling result:\n",
            "            Type  Time(%)      Time     Calls       Avg       Min       Max  Name\n",
            " GPU activities:   46.19%  3.4880us         1  3.4880us  3.4880us  3.4880us  main_23_gpu\n",
            "                   29.24%  2.2080us         1  2.2080us  2.2080us  2.2080us  [CUDA memcpy DtoH]\n",
            "                   24.58%  1.8560us         2     928ns     672ns  1.1840us  [CUDA memcpy HtoD]\n",
            "      API calls:   85.56%  269.63ms         1  269.63ms  269.63ms  269.63ms  cuDevicePrimaryCtxRetain\n",
            "                   13.87%  43.708ms         1  43.708ms  43.708ms  43.708ms  cuMemHostAlloc\n",
            "                    0.43%  1.3499ms         1  1.3499ms  1.3499ms  1.3499ms  cuMemAllocHost\n",
            "                    0.07%  213.19us         4  53.296us  4.1950us  187.65us  cuMemAlloc\n",
            "                    0.02%  77.534us         1  77.534us  77.534us  77.534us  cuModuleLoadDataEx\n",
            "                    0.01%  37.538us         1  37.538us  37.538us  37.538us  cuLaunchKernel\n",
            "                    0.01%  34.570us         2  17.285us  7.5990us  26.971us  cuMemcpyHtoDAsync\n",
            "                    0.00%  13.846us         3  4.6150us  2.9180us  7.9520us  cuStreamSynchronize\n",
            "                    0.00%  11.285us         1  11.285us  11.285us  11.285us  cuMemcpyDtoHAsync\n",
            "                    0.00%  7.4430us         3  2.4810us  1.1710us  4.3990us  cuPointerGetAttributes\n",
            "                    0.00%  7.2700us         1  7.2700us  7.2700us  7.2700us  cuDeviceGetPCIBusId\n",
            "                    0.00%  5.4750us         1  5.4750us  5.4750us  5.4750us  cuEventRecord\n",
            "                    0.00%  5.3950us         7     770ns     285ns  1.9720us  cuDeviceGetAttribute\n",
            "                    0.00%  5.0970us         1  5.0970us  5.0970us  5.0970us  cuCtxGetCurrent\n",
            "                    0.00%  4.8210us         2  2.4100us     921ns  3.9000us  cuEventCreate\n",
            "                    0.00%  3.5360us         1  3.5360us  3.5360us  3.5360us  cuEventSynchronize\n",
            "                    0.00%  2.6420us         3     880ns     298ns  1.9000us  cuDeviceGetCount\n",
            "                    0.00%  2.6420us         3     880ns     458ns  1.3770us  cuCtxSetCurrent\n",
            "                    0.00%  1.2650us         2     632ns     275ns     990ns  cuDeviceGet\n",
            "                    0.00%  1.2160us         1  1.2160us  1.2160us  1.2160us  cuModuleGetFunction\n",
            "                    0.00%     894ns         3     298ns     242ns     345ns  cuDriverGetVersion\n",
            "                    0.00%     659ns         1     659ns     659ns     659ns  cuDeviceComputeCapability\n",
            " OpenACC (excl):   99.27%  43.926ms         1  43.926ms  43.926ms  43.926ms  acc_enter_data@multMatrizesACC.c:20\n",
            "                    0.27%  120.08us         1  120.08us  120.08us  120.08us  acc_device_init@multMatrizesACC.c:20\n",
            "                    0.11%  46.735us         1  46.735us  46.735us  46.735us  acc_enqueue_upload@multMatrizesACC.c:20 (vector[:])\n",
            "                    0.10%  44.597us         1  44.597us  44.597us  44.597us  acc_enqueue_launch@multMatrizesACC.c:23 (main_23_gpu)\n",
            "                    0.08%  34.789us         1  34.789us  34.789us  34.789us  acc_exit_data@multMatrizesACC.c:20\n",
            "                    0.07%  29.848us         1  29.848us  29.848us  29.848us  acc_enqueue_download@multMatrizesACC.c:30 (result[:])\n",
            "                    0.03%  11.682us         1  11.682us  11.682us  11.682us  acc_wait@multMatrizesACC.c:30\n",
            "                    0.02%  10.452us         1  10.452us  10.452us  10.452us  acc_wait@multMatrizesACC.c:20\n",
            "                    0.02%  9.8690us         1  9.8690us  9.8690us  9.8690us  acc_enqueue_upload@multMatrizesACC.c:20 (matrix[:][:])\n",
            "                    0.02%  8.7810us         1  8.7810us  8.7810us  8.7810us  acc_compute_construct@multMatrizesACC.c:20\n",
            "                    0.01%  4.3540us         1  4.3540us  4.3540us  4.3540us  acc_wait@multMatrizesACC.c:23\n",
            "                    0.00%       0ns         3       0ns       0ns       0ns  acc_alloc@multMatrizesACC.c:20\n",
            "                    0.00%       0ns         3       0ns       0ns       0ns  acc_create@multMatrizesACC.c:20\n",
            "                    0.00%       0ns         3       0ns       0ns       0ns  acc_delete@multMatrizesACC.c:30\n"
          ]
        }
      ]
    }
  ]
}